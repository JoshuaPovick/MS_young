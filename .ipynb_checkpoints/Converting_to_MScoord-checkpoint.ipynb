{
 "cells": [
  {
   "cell_type": "code",
   "execution_count": null,
   "metadata": {
    "collapsed": true
   },
   "outputs": [],
   "source": [
    "from astropy.coordinates import frame_transform_graph\n",
    "from astropy.coordinates.matrix_utilities import rotation_matrix, matrix_product, matrix_transpose\n",
    "import astropy.coordinates as coord\n",
    "import astropy.units as u\n",
    "from astropy.coordinates import SkyCoord\n",
    "\n",
    "class MagellanicStream(coord.BaseCoordinateFrame):\n",
    "    \"\"\"\n",
    "    A Heliocentric spherical coordinate system defined by the Magellanic Stream\n",
    "    Parameters\n",
    "    ----------\n",
    "    representation : `BaseRepresentation` or None\n",
    "        A representation object or None to have no data (or use the other keywords)\n",
    "    MSLongitude : `Angle`, optional, must be keyword\n",
    "        The longitude-like angle corresponding to the Magellanic Stream.\n",
    "    MSLatitude : `Angle`, optional, must be keyword\n",
    "        The latitude-like angle corresponding to the Magellanic Stream.\n",
    "    distance : `Quantity`, optional, must be keyword\n",
    "        The Distance for this object along the line-of-sight.\n",
    "    pm_Lambda_cosBeta : :class:`~astropy.units.Quantity`, optional, must be keyword\n",
    "        The proper motion along the Stream in ``Lambda`` (including the\n",
    "        ``cos(Beta)`` factor) for this object (``pm_Beta`` must also be given).\n",
    "    pm_Beta : :class:`~astropy.units.Quantity`, optional, must be keyword\n",
    "        The proper motion in Declination for this object (``pm_ra_cosdec`` must\n",
    "        also be given).\n",
    "    radial_velocity : :class:`~astropy.units.Quantity`, optional, must be keyword\n",
    "        The radial velocity of this object.\n",
    "    \"\"\"\n",
    "    default_representation = coord.SphericalRepresentation\n",
    "    #default_differential = coord.SphericalCosLatDifferential\n",
    "\n",
    "    frame_specific_representation_info = {\n",
    "        coord.SphericalRepresentation: [\n",
    "            coord.RepresentationMapping('lon', 'MSLongitude'),\n",
    "            coord.RepresentationMapping('lat', 'MSLatitude'),\n",
    "            coord.RepresentationMapping('distance', 'distance')]#,\n",
    "        #coord.SphericalCosLatDifferential: [\n",
    "        #    coord.RepresentationMapping('d_lon_coslat', 'pm_lon_coslat'),\n",
    "        #    coord.RepresentationMapping('d_lat', 'pm_lat'),\n",
    "        #    coord.RepresentationMapping('d_distance', 'radial_velocity')],\n",
    "        #coord.SphericalDifferential: [\n",
    "        #    coord.RepresentationMapping('d_lon', 'pm_lon'),\n",
    "        #    coord.RepresentationMapping('d_lat', 'pm_lat'),\n",
    "        #   coord.RepresentationMapping('d_distance', 'radial_velocity')]\n",
    "    }\n",
    "\n",
    "    frame_specific_representation_info[coord.UnitSphericalRepresentation] = \\\n",
    "        frame_specific_representation_info[coord.SphericalRepresentation]\n",
    "    #frame_specific_representation_info[coord.UnitSphericalCosLatDifferential] = \\\n",
    "    #    frame_specific_representation_info[coord.SphericalCosLatDifferential]\n",
    "    #frame_specific_representation_info[coord.UnitSphericalDifferential] = \\\n",
    "    #    frame_specific_representation_info[coord.SphericalDifferential]\n",
    "\n",
    "\n",
    "MS_PHI = (180 + 8.5 + 90) * u.degree # Euler angles (from Nidever 2010)\n",
    "MS_THETA = (90 + 7.5) * u.degree\n",
    "MS_PSI = -32.724214217871349 * u.degree  # anode parameter from gal2mag.pro\n",
    "\n",
    "D = rotation_matrix(MS_PHI, \"z\")\n",
    "C = rotation_matrix(MS_THETA, \"x\")\n",
    "B = rotation_matrix(MS_PSI, \"z\")\n",
    "A = np.diag([1., 1., 1.])\n",
    "MS_MATRIX = matrix_product(A, B, C, D)\n",
    "\n",
    "@frame_transform_graph.transform(coord.StaticMatrixTransform, coord.Galactic, MagellanicStream)\n",
    "def galactic_to_MS():\n",
    "    \"\"\" Compute the transformation matrix from Galactic spherical to\n",
    "        Magellanic Stream coordinates.\n",
    "    \"\"\"\n",
    "    return MS_MATRIX\n",
    "\n",
    "@frame_transform_graph.transform(coord.StaticMatrixTransform, MagellanicStream, coord.Galactic)\n",
    "def MS_to_galactic():\n",
    "    \"\"\" Compute the transformation matrix from Magellanic Stream coordinates to\n",
    "        spherical Galactic.\n",
    "    \"\"\"\n",
    "    return matrix_transpose(MS_MATRIX)"
   ]
  },
  {
   "cell_type": "code",
   "execution_count": null,
   "metadata": {
    "collapsed": true
   },
   "outputs": [],
   "source": [
    "c_icrs = SkyCoord(ra=tmp.ra*u.degree, dec=tmp.dec*u.degree)\n",
    "c_ms = c_icrs.transform_to(MagellanicStream)\n",
    "ms_l,ms_b = c_ms.MSLongitude.degree, c_ms.MSLatitude.degree"
   ]
  }
 ],
 "metadata": {
  "kernelspec": {
   "display_name": "Python 3",
   "language": "python",
   "name": "python3"
  },
  "language_info": {
   "codemirror_mode": {
    "name": "ipython",
    "version": 3
   },
   "file_extension": ".py",
   "mimetype": "text/x-python",
   "name": "python",
   "nbconvert_exporter": "python",
   "pygments_lexer": "ipython3",
   "version": "3.6.5"
  }
 },
 "nbformat": 4,
 "nbformat_minor": 1
}
